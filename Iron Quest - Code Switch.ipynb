{
 "cells": [
  {
   "cell_type": "code",
   "execution_count": 1,
   "metadata": {},
   "outputs": [
    {
     "name": "stdout",
     "output_type": "stream",
     "text": [
      "Requirement already satisfied: requests in c:\\users\\iarreola\\anaconda3\\lib\\site-packages (2.24.0)\n",
      "Requirement already satisfied: chardet<4,>=3.0.2 in c:\\users\\iarreola\\anaconda3\\lib\\site-packages (from requests) (3.0.4)\n",
      "Requirement already satisfied: certifi>=2017.4.17 in c:\\users\\iarreola\\anaconda3\\lib\\site-packages (from requests) (2020.6.20)\n",
      "Requirement already satisfied: idna<3,>=2.5 in c:\\users\\iarreola\\anaconda3\\lib\\site-packages (from requests) (2.10)\n",
      "Requirement already satisfied: urllib3!=1.25.0,!=1.25.1,<1.26,>=1.21.1 in c:\\users\\iarreola\\anaconda3\\lib\\site-packages (from requests) (1.25.11)\n"
     ]
    }
   ],
   "source": [
    "!pip install requests"
   ]
  },
  {
   "cell_type": "code",
   "execution_count": 2,
   "metadata": {},
   "outputs": [],
   "source": [
    "import requests\n",
    "import datetime\n",
    "from urllib.parse import urlencode  #bringing this in so that we can properly create urls needed for the search api below"
   ]
  },
  {
   "cell_type": "code",
   "execution_count": 3,
   "metadata": {},
   "outputs": [],
   "source": [
    "import base64"
   ]
  },
  {
   "cell_type": "code",
   "execution_count": 4,
   "metadata": {},
   "outputs": [],
   "source": [
    "# (1) need a spotify account (2) go to the developer spotify website (3) dashboard page has the client_id and client_secret, referenced throughout this Jupyter notebook\n",
    "\n",
    "client_id = '......'         #<----------------- YOUR ID HERE\n",
    "    \n",
    "client_secret = '.....'       #<----------------- YOUR SECRET HERE\n"
   ]
  },
  {
   "cell_type": "code",
   "execution_count": 9,
   "metadata": {},
   "outputs": [],
   "source": [
    "# do a lookup for a token -- which will be used for future requests, it's like authenticating to a session\n",
    "# for this project I will be defining the spotifyapi\n",
    "\n",
    "class SpotifyAPI(object):\n",
    "    access_token = None\n",
    "    access_token_expires = datetime.datetime.now()\n",
    "    access_token_did_expire = True\n",
    "    client_id = None\n",
    "    client_secret = None\n",
    "    token_url = \"https://accounts.spotify.com/api/token\"\n",
    "    \n",
    "    def __init__(self, client_id, client_secret, *args, **kwargs):\n",
    "            super().__init__(*args, **kwargs)\n",
    "            self.client_id = client_id\n",
    "            self.client_secret = client_secret\n",
    "    \n",
    "    def get_client_credentials(self):\n",
    "            \"\"\"\n",
    "            Returns a base 64 encoded string\n",
    "            \"\"\"\n",
    "            client_id = self.client_id\n",
    "            client_secret = self.client_secret\n",
    "            if client_secret == None or client_id == None:\n",
    "                raise Exception(\"You must set client_id and client_secret\")\n",
    "            client_creds = f\"{client_id}:{client_secret}\"\n",
    "            client_creds_b64 = base64.b64encode(client_creds.encode())\n",
    "            return client_creds_b64.decode()\n",
    "    \n",
    "    def get_token_headers(self):\n",
    "        client_creds_b64 = self.get_client_credentials()\n",
    "        return  {\n",
    "                \"Authorization\": f\"Basic {client_creds_b64}\" \n",
    "        }\n",
    "        \n",
    "    def get_token_data(self):\n",
    "        return {\n",
    "                \"grant_type\": \"client_credentials\"\n",
    "        }\n",
    "        \n",
    "    def perform_auth(self):\n",
    "        token_url = self.token_url\n",
    "        token_data = self.get_token_data()\n",
    "        token_headers = self.get_token_headers()\n",
    "        r = requests.post(token_url, data=token_data, headers=token_headers)\n",
    "        if r.status_code not in range (200, 299):\n",
    "            raise Exception(\"Could not authenticate client.\")\n",
    "            # return False   ---- commenting out because we probably want to raise an exception instead of just saying false\n",
    "        data = r.json()\n",
    "        now = datetime.datetime.now() # gives the exact of now, whenever something is requested\n",
    "        access_token = data['access_token']\n",
    "        expires_in = data['expires_in'] # seconds\n",
    "        expires = now + datetime.timedelta(seconds=expires_in) # will give a datetime object relative to now, based off when the request is happening \n",
    "        self.access_token = access_token\n",
    "        self.access_token_expires = expires\n",
    "        self.access_token_did_expire = expires < now\n",
    "        return True\n",
    "\n",
    "    def get_access_token(self):\n",
    "        auth_done = self.perform_auth()\n",
    "        if not auth_done:\n",
    "            raise Exception(\"Authentication failed\")\n",
    "        token = self.access_token\n",
    "        expires = self.access_token_expires\n",
    "        now = datetime.datetime.now()\n",
    "        if expires < now:\n",
    "            self.perform_auth()\n",
    "            return self.get_access_token()\n",
    "        elif token == None:\n",
    "            self.perform_auth()\n",
    "            return self.get_access_token()\n",
    "        return token\n",
    "    \n",
    "    def get_resource_header(self):\n",
    "        access_token = self.get_access_token()\n",
    "        headers = {\n",
    "            \"Authorization\" : f\"Bearer {access_token}\"\n",
    "        }\n",
    "        return headers\n",
    "    \n",
    "    def get_resources(self, lookup_id, resource_type='shows', version='v1'):\n",
    "        endpoint = f\"https://api.spotify.com/{version}/{resource_type}/{lookup_id}\"\n",
    "        headers = self.get_resource_header()\n",
    "        r = requests.get(endpoint, headers=headers)\n",
    "        if r.status_code not in range(200,299):\n",
    "            return{}\n",
    "        return r.json()\n",
    "    \n",
    "    def get_show (self, _id):\n",
    "        return self.get_resources(_id, resource_type='show')\n",
    "    \n",
    "    def get_episode(self, _id):\n",
    "        return self.get_resources(_id, resource_type='episode')\n",
    "    \n",
    "    def base_search (self, query_params):\n",
    "        headers = self.get_resource_header()\n",
    "        endpoint = \"https://api.spotify.com/v1/search\"        \n",
    "        lookup_url = f\"{endpoint}?{query_params}\"    \n",
    "        r = requests.get(lookup_url, headers=headers)\n",
    "        if r.status_code not in range(200,299):\n",
    "            return {}\n",
    "        return r.json()\n",
    "    \n",
    "    def search(self, query=None, operator=None, operator_query=None, search_type='show'):                     #creating another here to have a more robust query search\n",
    "        if query == None:\n",
    "            raise Exception(\"A query is required\")\n",
    "        if isinstance(query, dict):\n",
    "            query = \" \".join([f\"{k}:{v}\" for k,v in query.items()])\n",
    "        if operator != None and operator_query != None:\n",
    "            if operator.lower() == \"or\" or operator.lower() == \"not\":\n",
    "                operator = operator.upper()\n",
    "                if isinstance(operator_query, str):\n",
    "                    query = f\"{query} {operator} {operator_query}\"\n",
    "        query_params = urlencode({\"q\": query, \"type\": search_type.lower()})\n",
    "        print(query_params)\n",
    "        return self.base_search(query_params)\n"
   ]
  },
  {
   "cell_type": "code",
   "execution_count": 10,
   "metadata": {},
   "outputs": [],
   "source": [
    "spotify = SpotifyAPI(client_id, client_secret)"
   ]
  },
  {
   "cell_type": "code",
   "execution_count": null,
   "metadata": {},
   "outputs": [],
   "source": [
    "# Help here please! I'm trying to find data for my favorite podcast Code Switch .. it exists and is popular so there should definitely be data here ... https://open.spotify.com/show/3bExJ9JQpkwNhoHvaIIuyV"
   ]
  },
  {
   "cell_type": "code",
   "execution_count": 14,
   "metadata": {},
   "outputs": [
    {
     "name": "stdout",
     "output_type": "stream",
     "text": [
      "q=show%3ACode+Switch+episode%3AClaim+Us+If+You%27re+Famous&type=episode\n"
     ]
    },
    {
     "data": {
      "text/plain": [
       "{'episodes': {'href': 'https://api.spotify.com/v1/search?query=show%3ACode+Switch+episode%3AClaim+Us+If+You%27re+Famous&type=episode&offset=0&limit=20',\n",
       "  'items': [],\n",
       "  'limit': 20,\n",
       "  'next': None,\n",
       "  'offset': 0,\n",
       "  'previous': None,\n",
       "  'total': 0}}"
      ]
     },
     "execution_count": 14,
     "metadata": {},
     "output_type": "execute_result"
    }
   ],
   "source": [
    "spotify.search({\"show\":\"Code Switch\", \"episode\":\"Claim Us If You're Famous\"}, search_type=\"episode\")"
   ]
  },
  {
   "cell_type": "code",
   "execution_count": null,
   "metadata": {},
   "outputs": [],
   "source": [
    "#spotify.search(\"Code Switch\", search_type=\"show\")\n",
    "#spotify.search(\"Black And Up In Arms\", search_type=\"episode\")"
   ]
  },
  {
   "cell_type": "code",
   "execution_count": 15,
   "metadata": {},
   "outputs": [
    {
     "name": "stdout",
     "output_type": "stream",
     "text": [
      "q=id%3A3bExJ9JQpkwNhoHvaIIuyV&type=episode\n"
     ]
    },
    {
     "data": {
      "text/plain": [
       "{'episodes': {'href': 'https://api.spotify.com/v1/search?query=id%3A3bExJ9JQpkwNhoHvaIIuyV&type=episode&offset=0&limit=20',\n",
       "  'items': [],\n",
       "  'limit': 20,\n",
       "  'next': None,\n",
       "  'offset': 0,\n",
       "  'previous': None,\n",
       "  'total': 0}}"
      ]
     },
     "execution_count": 15,
     "metadata": {},
     "output_type": "execute_result"
    }
   ],
   "source": [
    "spotify.search({'id':\"3bExJ9JQpkwNhoHvaIIuyV\"}, search_type=\"episode\")"
   ]
  }
 ],
 "metadata": {
  "kernelspec": {
   "display_name": "Python 3",
   "language": "python",
   "name": "python3"
  },
  "language_info": {
   "codemirror_mode": {
    "name": "ipython",
    "version": 3
   },
   "file_extension": ".py",
   "mimetype": "text/x-python",
   "name": "python",
   "nbconvert_exporter": "python",
   "pygments_lexer": "ipython3",
   "version": "3.8.5"
  }
 },
 "nbformat": 4,
 "nbformat_minor": 4
}
